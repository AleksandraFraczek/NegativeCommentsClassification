{
  "nbformat": 4,
  "nbformat_minor": 0,
  "metadata": {
    "colab": {
      "name": "Classification_of_negative_comments_RNN_LSTM.ipynb",
      "provenance": [],
      "collapsed_sections": []
    },
    "kernelspec": {
      "name": "python3",
      "display_name": "Python 3"
    },
    "language_info": {
      "name": "python"
    }
  },
  "cells": [
    {
      "cell_type": "code",
      "execution_count": null,
      "metadata": {
        "id": "8-QqzM2OMsJc"
      },
      "outputs": [],
      "source": [
        "import numpy as np \n",
        "import pandas as pd \n",
        "from tqdm import tqdm\n",
        "from sklearn.model_selection import train_test_split\n",
        "import tensorflow as tf\n",
        "from keras.models import Sequential\n",
        "from keras.layers.recurrent import LSTM, GRU,SimpleRNN\n",
        "from keras.layers.core import Dense, Activation, Dropout\n",
        "from keras.layers.embeddings import Embedding\n",
        "from keras.layers import BatchNormalization\n",
        "from keras.utils import np_utils\n",
        "from sklearn import preprocessing, decomposition, model_selection, metrics, pipeline\n",
        "from sklearn.metrics import accuracy_score, confusion_matrix, classification_report\n",
        "from keras.layers import GlobalMaxPooling1D, Conv1D, MaxPooling1D, Flatten, Bidirectional, SpatialDropout1D\n",
        "from keras.preprocessing import sequence, text\n",
        "from keras.callbacks import EarlyStopping\n",
        "import matplotlib.pyplot as plt\n",
        "import seaborn as sns\n",
        "from plotly import graph_objs as go\n",
        "import plotly.express as px\n",
        "import plotly.figure_factory as ff\n",
        "import re\n",
        "import string\n",
        "from tensorflow.keras.optimizers import Adam"
      ]
    },
    {
      "cell_type": "code",
      "source": [
        "from google.colab import drive\n",
        "drive.mount('/content/drive')"
      ],
      "metadata": {
        "colab": {
          "base_uri": "https://localhost:8080/"
        },
        "id": "RJmJs5tq0F2B",
        "outputId": "052c3d89-1314-4eeb-f8c7-e674dc975116"
      },
      "execution_count": null,
      "outputs": [
        {
          "output_type": "stream",
          "name": "stdout",
          "text": [
            "Mounted at /content/drive\n"
          ]
        }
      ]
    },
    {
      "cell_type": "code",
      "source": [
        "train_data = pd.read_csv('/content/drive/MyDrive/IUI_projekt/train.csv')\n",
        "test_data = pd.read_csv('/content/drive/MyDrive/IUI_projekt/test.csv')\n",
        "labels = pd.read_csv('/content/drive/MyDrive/IUI_projekt/test_labels.csv')"
      ],
      "metadata": {
        "id": "S6qFQkUkNbHI"
      },
      "execution_count": null,
      "outputs": []
    },
    {
      "cell_type": "code",
      "source": [
        "# sprawdzenie czy są dane puste \n",
        "print(train_data.isnull().sum())\n",
        "print(test_data.isnull().sum())"
      ],
      "metadata": {
        "id": "am2_etJtPWUH",
        "colab": {
          "base_uri": "https://localhost:8080/"
        },
        "outputId": "c9311228-f168-46b4-b01e-11d1feeb38fa"
      },
      "execution_count": null,
      "outputs": [
        {
          "output_type": "stream",
          "name": "stdout",
          "text": [
            "id               0\n",
            "comment_text     0\n",
            "toxic            0\n",
            "severe_toxic     0\n",
            "obscene          0\n",
            "threat           0\n",
            "insult           0\n",
            "identity_hate    0\n",
            "dtype: int64\n",
            "id              0\n",
            "comment_text    0\n",
            "dtype: int64\n"
          ]
        }
      ]
    },
    {
      "cell_type": "code",
      "source": [
        "def clean_text(text):\n",
        "    text = text.lower()\n",
        "    text = re.sub('\\[.*?\\]', '', text)\n",
        "    text = re.sub('https?://\\S+|www\\.\\S+', '', text)\n",
        "    text = re.sub('\\<.*?\\>', '', text)\n",
        "    text = re.sub('\\(.*?\\)', '', text)\n",
        "    text = re.sub('[%s]' % re.escape(string.punctuation), '', text)\n",
        "    text = re.sub('\\n', '', text)\n",
        "    text = re.sub('\\w*\\d\\w*', '', text)\n",
        "    return text"
      ],
      "metadata": {
        "id": "BzLHLYlaQUkp"
      },
      "execution_count": null,
      "outputs": []
    },
    {
      "cell_type": "code",
      "source": [
        "train_data['clean_text'] = train_data['comment_text'].apply(str).apply(lambda x: clean_text(x))\n",
        "test_data['clean_text'] = test_data['comment_text'].apply(str).apply(lambda x: clean_text(x))"
      ],
      "metadata": {
        "id": "Jd4zyvTOQh8n"
      },
      "execution_count": null,
      "outputs": []
    },
    {
      "cell_type": "code",
      "source": [
        "x_train, x_test_withlab, y_train, y_test_withlab = train_test_split(train_data.comment_text.values, train_data.toxic.values,  \n",
        "                                                  random_state=42, \n",
        "                                                  test_size=0.2, shuffle=True)\n",
        "# x_valid, x_test_withlab, y_valid, y_test_withlab = train_test_split(x_valid, y_valid, test_size=0.5, random_state=32, shuffle=True)"
      ],
      "metadata": {
        "id": "tZYrsZA7ROVa"
      },
      "execution_count": null,
      "outputs": []
    },
    {
      "cell_type": "code",
      "source": [
        "# using keras tokenizer here\n",
        "token = text.Tokenizer(num_words=None)\n",
        "max_len = 192\n",
        "\n",
        "token.fit_on_texts(list(x_train)) #+ list(x_valid))\n",
        "xtrain_seq = token.texts_to_sequences(x_train)\n",
        "# xvalid_seq = token.texts_to_sequences(x_valid)\n",
        "xtest_seq = token.texts_to_sequences(x_test_withlab)\n",
        "\n",
        "#zero pad the sequences\n",
        "xtrain_pad = sequence.pad_sequences(xtrain_seq, maxlen=max_len)\n",
        "# xvalid_pad = sequence.pad_sequences(xvalid_seq, maxlen=max_len)\n",
        "xtest_pad = sequence.pad_sequences(xtest_seq, maxlen=max_len)\n",
        "\n",
        "word_index = token.word_index"
      ],
      "metadata": {
        "id": "_GHIKzitRv3h"
      },
      "execution_count": null,
      "outputs": []
    },
    {
      "cell_type": "markdown",
      "source": [
        "## **Simple RNN model - without transfer learning**"
      ],
      "metadata": {
        "id": "FsbnKWlkdQeI"
      }
    },
    {
      "cell_type": "code",
      "source": [
        "model = Sequential()\n",
        "model.add(Embedding(len(word_index) + 1,\n",
        "                     300, input_length=max_len))\n",
        "model.add(SimpleRNN(100))\n",
        "model.add(Dense(1, activation='sigmoid'))\n",
        "    \n",
        "model.compile(Adam(1e-5), loss='binary_crossentropy', metrics=['accuracy'])\n",
        "model.summary()"
      ],
      "metadata": {
        "colab": {
          "base_uri": "https://localhost:8080/"
        },
        "id": "pfj3WGLiTv26",
        "outputId": "08c6146f-18cf-480e-e454-0a2e36a155a6"
      },
      "execution_count": null,
      "outputs": [
        {
          "output_type": "stream",
          "name": "stdout",
          "text": [
            "Model: \"sequential_13\"\n",
            "_________________________________________________________________\n",
            " Layer (type)                Output Shape              Param #   \n",
            "=================================================================\n",
            " embedding_12 (Embedding)    (None, 192, 300)          54959400  \n",
            "                                                                 \n",
            " simple_rnn_12 (SimpleRNN)   (None, 100)               40100     \n",
            "                                                                 \n",
            " dense_12 (Dense)            (None, 1)                 101       \n",
            "                                                                 \n",
            "=================================================================\n",
            "Total params: 54,999,601\n",
            "Trainable params: 54,999,601\n",
            "Non-trainable params: 0\n",
            "_________________________________________________________________\n"
          ]
        }
      ]
    },
    {
      "cell_type": "code",
      "source": [
        "model_history = model.fit(xtrain_pad, y_train, epochs=3, batch_size=16, steps_per_epoch=1000, validation_split=0.2)"
      ],
      "metadata": {
        "colab": {
          "base_uri": "https://localhost:8080/"
        },
        "id": "ppQEisH7VqSj",
        "outputId": "5b5fb7b4-7291-4037-e1d6-7a0face29b2e"
      },
      "execution_count": null,
      "outputs": [
        {
          "output_type": "stream",
          "name": "stdout",
          "text": [
            "Epoch 1/3\n",
            "1000/1000 [==============================] - 631s 630ms/step - loss: 0.3948 - accuracy: 0.8794 - val_loss: 0.3168 - val_accuracy: 0.9033\n",
            "Epoch 2/3\n",
            "1000/1000 [==============================] - 627s 627ms/step - loss: 0.3194 - accuracy: 0.9018 - val_loss: 0.3148 - val_accuracy: 0.9034\n",
            "Epoch 3/3\n",
            "1000/1000 [==============================] - 623s 623ms/step - loss: 0.3292 - accuracy: 0.8929 - val_loss: 0.3224 - val_accuracy: 0.9035\n"
          ]
        }
      ]
    },
    {
      "cell_type": "code",
      "source": [
        "y_pred = model.predict(xtest_pad)"
      ],
      "metadata": {
        "id": "zsBPxJe9b0x8"
      },
      "execution_count": null,
      "outputs": []
    },
    {
      "cell_type": "code",
      "source": [
        "threshold = 0.8\n",
        "prediction_list = []\n",
        "for prediction in y_pred: \n",
        "  if prediction[0] >= threshold: \n",
        "    prediction_list.append(1)\n",
        "  else: \n",
        "    prediction_list.append(0)"
      ],
      "metadata": {
        "id": "88ta9V0OlMGy"
      },
      "execution_count": null,
      "outputs": []
    },
    {
      "cell_type": "code",
      "source": [
        "accuracy = accuracy_score(y_test_withlab, prediction_list)*100\n",
        "conf_matrix = confusion_matrix(y_test_withlab, prediction_list)\n",
        "report = classification_report(y_test_withlab, prediction_list)"
      ],
      "metadata": {
        "id": "ZFEgir9scImN"
      },
      "execution_count": null,
      "outputs": []
    },
    {
      "cell_type": "code",
      "source": [
        "print(\"Dokładność jest równa: \" + str(round(accuracy, 2)) + \"%\")\n",
        "print(conf_matrix)\n",
        "print(report)"
      ],
      "metadata": {
        "colab": {
          "base_uri": "https://localhost:8080/"
        },
        "id": "Fxdj7bJQckSx",
        "outputId": "e55f9366-72c8-4289-ebf3-beba281b3e7d"
      },
      "execution_count": null,
      "outputs": [
        {
          "output_type": "stream",
          "name": "stdout",
          "text": [
            "Dokładność jest równa: 90.54%\n",
            "[[14446     0]\n",
            " [ 1509     3]]\n",
            "              precision    recall  f1-score   support\n",
            "\n",
            "           0       0.91      1.00      0.95     14446\n",
            "           1       1.00      0.00      0.00      1512\n",
            "\n",
            "    accuracy                           0.91     15958\n",
            "   macro avg       0.95      0.50      0.48     15958\n",
            "weighted avg       0.91      0.91      0.86     15958\n",
            "\n"
          ]
        }
      ]
    },
    {
      "cell_type": "code",
      "source": [
        "model_accuracy = model_history.history[\"accuracy\"]\n",
        "model_loss = model_history.history[\"loss\"]\n",
        "model_val_accuracy = model_history.history[\"val_accuracy\"]\n",
        "model_val_loss = model_history.history[\"val_loss\"]"
      ],
      "metadata": {
        "id": "Wks6KU6dcmst"
      },
      "execution_count": null,
      "outputs": []
    },
    {
      "cell_type": "code",
      "source": [
        "print(\"Dokładność modelu: \" + str(model_accuracy))\n",
        "print(\"Wartość loss dla modelu: \" + str(model_loss))\n",
        "print(\"Dokładność modelu dla danych walidacyjnych: \" + str(model_val_accuracy))\n",
        "print(\"Wartość val_loss dla modelu: \" + str(model_val_loss))"
      ],
      "metadata": {
        "colab": {
          "base_uri": "https://localhost:8080/"
        },
        "id": "0984VwHGc_wk",
        "outputId": "68926578-0bab-44af-b45e-f05665315ffe"
      },
      "execution_count": null,
      "outputs": [
        {
          "output_type": "stream",
          "name": "stdout",
          "text": [
            "Dokładność modelu: [0.8793749809265137, 0.9017500281333923, 0.8928750157356262]\n",
            "Wartość loss dla modelu: [0.39480656385421753, 0.31941092014312744, 0.3292350471019745]\n",
            "Dokładność modelu dla danych walidacyjnych: [0.9032978415489197, 0.9033761620521545, 0.9034544825553894]\n",
            "Wartość val_loss dla modelu: [0.3168138563632965, 0.314765602350235, 0.3224342167377472]\n"
          ]
        }
      ]
    },
    {
      "cell_type": "code",
      "source": [
        "figure = plt.figure(figsize=(15,10))\n",
        "plt.title(\"Zmiana dokładności w trakcie treningu\")\n",
        "figure_acc = figure.add_subplot(1,1,1)\n",
        "figure_acc.set_xlabel('epoka')\n",
        "figure_acc.set_ylabel('miara - dokładność')\n",
        "plt.plot(model_history.history['accuracy'])\n",
        "plt.plot(model_history.history['val_accuracy'])\n",
        "plt.legend(['dane treningowe', 'dane walidacyjne'])\n",
        "plt.show()"
      ],
      "metadata": {
        "colab": {
          "base_uri": "https://localhost:8080/",
          "height": 711
        },
        "id": "Q-BVjb6ddAbm",
        "outputId": "c66e194e-8324-4578-9750-545f15c70026"
      },
      "execution_count": null,
      "outputs": [
        {
          "output_type": "stream",
          "name": "stderr",
          "text": [
            "/usr/local/lib/python3.7/dist-packages/ipykernel_launcher.py:3: MatplotlibDeprecationWarning:\n",
            "\n",
            "Adding an axes using the same arguments as a previous axes currently reuses the earlier instance.  In a future version, a new instance will always be created and returned.  Meanwhile, this warning can be suppressed, and the future behavior ensured, by passing a unique label to each axes instance.\n",
            "\n"
          ]
        },
        {
          "output_type": "display_data",
          "data": {
            "image/png": "[encoded data removed]",
            "text/plain": [
              "<Figure size 1080x720 with 1 Axes>"
            ]
          },
          "metadata": {
            "needs_background": "light"
          }
        }
      ]
    },
    {
      "cell_type": "code",
      "source": [
        "figure = plt.figure(figsize=(15,10))\n",
        "plt.title(\"Zmiana parametru loss w trakcie treningu\")\n",
        "figure_acc = figure.add_subplot(1,1,1)\n",
        "figure_acc.set_xlabel('epoka')\n",
        "figure_acc.set_ylabel('miara - loss')\n",
        "plt.plot(model_history.history['loss'])\n",
        "plt.plot(model_history.history['val_loss'])\n",
        "plt.legend(['dane treningowe', 'dane walidacyjne'])\n",
        "\n",
        "plt.show()"
      ],
      "metadata": {
        "id": "ym7t1NU4dC9J"
      },
      "execution_count": null,
      "outputs": []
    },
    {
      "cell_type": "markdown",
      "source": [
        "## **LSTM model - without transfer learningu** \n"
      ],
      "metadata": {
        "id": "a9dx3FMzeeKr"
      }
    },
    {
      "cell_type": "code",
      "source": [
        "model_LSTM = Sequential()\n",
        "model_LSTM.add(Embedding(len(word_index) + 1,\n",
        "                     300,\n",
        "                     input_length=max_len))\n",
        "\n",
        "model_LSTM.add(LSTM(100, dropout=0.3, recurrent_dropout=0.3))\n",
        "model_LSTM.add(Dense(1, activation='sigmoid'))\n",
        "\n",
        "model_LSTM.compile(Adam(lr=(1e-5)), loss='binary_crossentropy', metrics=['accuracy'])   \n",
        "model_LSTM.summary()"
      ],
      "metadata": {
        "id": "hskhE_HMdXjs",
        "colab": {
          "base_uri": "https://localhost:8080/"
        },
        "outputId": "daba1680-1a7b-409a-e7f0-7b7f873c5231"
      },
      "execution_count": null,
      "outputs": [
        {
          "output_type": "stream",
          "name": "stdout",
          "text": [
            "Model: \"sequential_14\"\n",
            "_________________________________________________________________\n",
            " Layer (type)                Output Shape              Param #   \n",
            "=================================================================\n",
            " embedding_13 (Embedding)    (None, 192, 300)          54959400  \n",
            "                                                                 \n",
            " lstm (LSTM)                 (None, 100)               160400    \n",
            "                                                                 \n",
            " dense_13 (Dense)            (None, 1)                 101       \n",
            "                                                                 \n",
            "=================================================================\n",
            "Total params: 55,119,901\n",
            "Trainable params: 55,119,901\n",
            "Non-trainable params: 0\n",
            "_________________________________________________________________\n"
          ]
        },
        {
          "output_type": "stream",
          "name": "stderr",
          "text": [
            "/usr/local/lib/python3.7/dist-packages/keras/optimizer_v2/adam.py:105: UserWarning:\n",
            "\n",
            "The `lr` argument is deprecated, use `learning_rate` instead.\n",
            "\n"
          ]
        }
      ]
    },
    {
      "cell_type": "code",
      "source": [
        "model_LSTM_history = model_LSTM.fit(xtrain_pad, y_train, epochs=3, batch_size=16, steps_per_epoch=1000, validation_split=0.2)"
      ],
      "metadata": {
        "id": "aRf2i2ikd1Lj",
        "colab": {
          "base_uri": "https://localhost:8080/"
        },
        "outputId": "fb0b6580-5561-4193-d85b-78037dff0b3d"
      },
      "execution_count": null,
      "outputs": [
        {
          "output_type": "stream",
          "name": "stdout",
          "text": [
            "Epoch 1/3\n",
            "1000/1000 [==============================] - 1153s 1s/step - loss: 0.4941 - accuracy: 0.8764 - val_loss: 0.3204 - val_accuracy: 0.9036\n",
            "Epoch 2/3\n",
            "1000/1000 [==============================] - 1139s 1s/step - loss: 0.3028 - accuracy: 0.9086 - val_loss: 0.3078 - val_accuracy: 0.9037\n",
            "Epoch 3/3\n",
            "1000/1000 [==============================] - 1168s 1s/step - loss: 0.3004 - accuracy: 0.9040 - val_loss: 0.2953 - val_accuracy: 0.9038\n"
          ]
        }
      ]
    },
    {
      "cell_type": "code",
      "source": [
        "y_pred_LSTM = model.predict(xtest_pad)"
      ],
      "metadata": {
        "id": "N0axUCkzeI5A"
      },
      "execution_count": null,
      "outputs": []
    },
    {
      "cell_type": "code",
      "source": [
        "threshold = 0.8\n",
        "prediction_list = []\n",
        "for prediction in y_pred_LSTM: \n",
        "  if prediction[0] >= threshold: \n",
        "    prediction_list.append(1)\n",
        "  else: \n",
        "    prediction_list.append(0)"
      ],
      "metadata": {
        "id": "ng0akjR44NIZ"
      },
      "execution_count": null,
      "outputs": []
    },
    {
      "cell_type": "code",
      "source": [
        "accuracy = accuracy_score(y_test_withlab, prediction_list)*100\n",
        "conf_matrix = confusion_matrix(y_test_withlab, prediction_list)\n",
        "report = classification_report(y_test_withlab, prediction_list)"
      ],
      "metadata": {
        "id": "nEry9jCneLZD"
      },
      "execution_count": null,
      "outputs": []
    },
    {
      "cell_type": "code",
      "source": [
        "print(\"Dokładność jest równa: \" + str(round(accuracy, 2)) + \"%\")\n",
        "print(conf_matrix)\n",
        "print(report)"
      ],
      "metadata": {
        "id": "iePrJOn4eQMr",
        "colab": {
          "base_uri": "https://localhost:8080/"
        },
        "outputId": "54ebe113-0135-4f35-f480-ed92b10dda3d"
      },
      "execution_count": null,
      "outputs": [
        {
          "output_type": "stream",
          "name": "stdout",
          "text": [
            "Dokładność jest równa: 90.44%\n",
            "[[28859     0]\n",
            " [ 3050     6]]\n",
            "              precision    recall  f1-score   support\n",
            "\n",
            "           0       0.90      1.00      0.95     28859\n",
            "           1       1.00      0.00      0.00      3056\n",
            "\n",
            "    accuracy                           0.90     31915\n",
            "   macro avg       0.95      0.50      0.48     31915\n",
            "weighted avg       0.91      0.90      0.86     31915\n",
            "\n"
          ]
        }
      ]
    },
    {
      "cell_type": "code",
      "source": [
        "model_accuracy = model_LSTM_history.history[\"accuracy\"]\n",
        "model_loss = model_LSTM_history.history[\"loss\"]\n",
        "model_val_accuracy = model_LSTM_history.history[\"val_accuracy\"]\n",
        "model_val_loss = model_LSTM_history.history[\"val_loss\"]"
      ],
      "metadata": {
        "id": "OkXLDJpTeR82"
      },
      "execution_count": null,
      "outputs": []
    },
    {
      "cell_type": "code",
      "source": [
        "print(\"Dokładność modelu: \" + str(model_accuracy))\n",
        "print(\"Wartość loss dla modelu: \" + str(model_loss))\n",
        "print(\"Dokładność modelu dla danych walidacyjnych: \" + str(model_val_accuracy))\n",
        "print(\"Wartość val_loss dla modelu: \" + str(model_val_loss))"
      ],
      "metadata": {
        "id": "pXNTBOEAeWn-",
        "colab": {
          "base_uri": "https://localhost:8080/"
        },
        "outputId": "337c69af-eab7-4052-f2eb-74a3ec8f36cb"
      },
      "execution_count": null,
      "outputs": [
        {
          "output_type": "stream",
          "name": "stdout",
          "text": [
            "Dokładność modelu: [0.8764374852180481, 0.9085624814033508, 0.9039999842643738]\n",
            "Wartość loss dla modelu: [0.49410274624824524, 0.302786648273468, 0.30043458938598633]\n",
            "Dokładność modelu dla danych walidacyjnych: [0.9036111831665039, 0.9036503434181213, 0.9038069844245911]\n",
            "Wartość val_loss dla modelu: [0.3204306662082672, 0.3077719211578369, 0.2952583432197571]\n"
          ]
        }
      ]
    },
    {
      "cell_type": "code",
      "source": [
        "figure = plt.figure(figsize=(15,10))\n",
        "plt.title(\"Zmiana dokładności w trakcie treningu\")\n",
        "figure_acc = figure.add_subplot(1,1,1)\n",
        "figure_acc.set_xlabel('epoka')\n",
        "figure_acc.set_ylabel('miara - dokładność')\n",
        "plt.plot(model_LSTM_history.history['accuracy'])\n",
        "plt.plot(model_LSTM_history.history['val_accuracy'])\n",
        "plt.legend(['dane treningowe', 'dane walidacyjne'])\n",
        "plt.show()"
      ],
      "metadata": {
        "id": "mam1WyfreYMV"
      },
      "execution_count": null,
      "outputs": []
    },
    {
      "cell_type": "code",
      "source": [
        "figure = plt.figure(figsize=(15,10))\n",
        "plt.title(\"Zmiana parametru loss w trakcie treningu\")\n",
        "figure_acc = figure.add_subplot(1,1,1)\n",
        "figure_acc.set_xlabel('epoka')\n",
        "figure_acc.set_ylabel('miara - loss')\n",
        "plt.plot(model_LSTM_history.history['loss'])\n",
        "plt.plot(model_LSTM_history.history['val_loss'])\n",
        "plt.legend(['dane treningowe', 'dane walidacyjne'])\n",
        "\n",
        "plt.show()"
      ],
      "metadata": {
        "id": "p5gdWJ3GeZci"
      },
      "execution_count": null,
      "outputs": []
    }
  ]
}